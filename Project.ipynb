{
  "nbformat": 4,
  "nbformat_minor": 0,
  "metadata": {
    "colab": {
      "name": "SmartProjectLast_(2).ipynb",
      "provenance": [],
      "collapsed_sections": [
        "bXZOWSfqyj03",
        "cj3RNEYor1rf",
        "C_awC7nBzdTn",
        "bM5qISQvzile",
        "DgGd6pX9zuzP",
        "w0d7OVSL_AQO",
        "ijusi7Qw_Uwv",
        "Bn8a3-px1uGH",
        "PzaQR0t5Y2iS",
        "NKjcuYZ7Y7Ww",
        "Y9RbZieoZFNq",
        "ZVt7Fh_AYwL5"
      ]
    },
    "kernelspec": {
      "name": "python3",
      "display_name": "Python 3"
    },
    "language_info": {
      "name": "python"
    }
  },
  "cells": [
    {
      "cell_type": "markdown",
      "source": [
        "###**Importing Libraries**"
      ],
      "metadata": {
        "id": "bXZOWSfqyj03"
      }
    },
    {
      "cell_type": "code",
      "execution_count": null,
      "metadata": {
        "id": "Ymc6pFdzq4uU"
      },
      "outputs": [],
      "source": [
        "import pandas as pd\n",
        "from sklearn.model_selection import train_test_split\n",
        "from sklearn.naive_bayes import GaussianNB\n",
        "from sklearn.ensemble import RandomForestClassifier\n",
        "from sklearn.ensemble import AdaBoostClassifier\n",
        "from sklearn.metrics import accuracy_score, classification_report\n",
        "from imblearn.over_sampling import RandomOverSampler\n",
        "import matplotlib.pyplot as plt\n",
        "from tensorflow import keras\n",
        "from tensorflow.keras import layers\n",
        "from sklearn.preprocessing import StandardScaler\n",
        "import tensorflow as tf\n",
        "import numpy as np\n",
        "import imageio\n",
        "import csv\n",
        "import pandas as pd\n",
        "from sklearn.model_selection import train_test_split\n",
        "from collections import Counter\n",
        "import numpy as np\n",
        "from sklearn.ensemble import RandomForestRegressor\n",
        "from sklearn.ensemble import AdaBoostClassifier\n",
        "from sklearn.naive_bayes import GaussianNB\n",
        "from sklearn.linear_model import LogisticRegression\n",
        "from sklearn.ensemble import RandomForestClassifier\n",
        "from imblearn.over_sampling import RandomOverSampler\n",
        "from imblearn.under_sampling import ClusterCentroids\n",
        "from sklearn.model_selection import cross_val_score\n",
        "import matplotlib.pyplot as plt\n",
        "from imblearn.over_sampling import SMOTE\n",
        "from sklearn.preprocessing import RobustScaler\n",
        "from sklearn.metrics import precision_score, recall_score, f1_score,accuracy_score, balanced_accuracy_score,classification_report,plot_confusion_matrix, confusion_matrix"
      ]
    },
    {
      "cell_type": "markdown",
      "source": [
        "###Reading data"
      ],
      "metadata": {
        "id": "tJMZvWPkZwNK"
      }
    },
    {
      "cell_type": "code",
      "source": [
        "data = pd.read_csv ('MCSDatasetNEXTCONLab (2).csv')\n",
        "data.drop(\"ID\", axis=1, inplace=True)\n",
        "data.head(20)"
      ],
      "metadata": {
        "colab": {
          "base_uri": "https://localhost:8080/",
          "height": 676
        },
        "id": "pBcylT-mFcMB",
        "outputId": "e79cd44e-3980-47a2-827f-d08d05880428"
      },
      "execution_count": null,
      "outputs": [
        {
          "output_type": "execute_result",
          "data": {
            "text/plain": [
              "     Latitude  Longitude  Day  Hour  Minute  Duration  RemainingTime  \\\n",
              "0   45.442142 -75.303369    1     4      13        40             40   \n",
              "1   45.442154 -75.304366    1     4      23        40             30   \n",
              "2   45.442104 -75.303963    1     4      33        40             20   \n",
              "3   45.441868 -75.303577    1     4      43        40             10   \n",
              "4   45.447727 -75.147722    2    15      49        30             30   \n",
              "5   45.447747 -75.147951    2    15      59        30             20   \n",
              "6   45.447790 -75.148303    2    16       9        30             10   \n",
              "7   45.508896 -75.259807    2    12      27        30             30   \n",
              "8   45.508748 -75.260652    2    12      37        30             20   \n",
              "9   45.508082 -75.260380    2    12      47        30             10   \n",
              "10  45.494207 -75.195014    1    11      37        30             30   \n",
              "11  45.493973 -75.195148    1    11      47        30             20   \n",
              "12  45.493472 -75.195086    1    11      57        30             10   \n",
              "13  45.381415 -75.257745    0    19      22        30             30   \n",
              "14  45.381364 -75.258572    0    19      32        30             20   \n",
              "15  45.381307 -75.258398    0    19      42        30             10   \n",
              "16  45.410236 -75.208755    3    22      25        30             30   \n",
              "17  45.409787 -75.208022    3    22      35        30             20   \n",
              "18  45.409407 -75.207825    3    22      45        30             10   \n",
              "19  45.565229 -75.234010    5    12       9        50             50   \n",
              "\n",
              "    Resources  Coverage  OnPeakHours  GridNumber  Ligitimacy  \n",
              "0           9        91            0      131380           1  \n",
              "1           9        91            0      131380           1  \n",
              "2           9        91            0      121996           1  \n",
              "3           9        91            0      121996           1  \n",
              "4           5        47            0      140784           1  \n",
              "5           5        47            0      140784           1  \n",
              "6           5        47            0      140784           1  \n",
              "7           4        43            0      243994           1  \n",
              "8           4        43            0      243994           1  \n",
              "9           4        43            0      243994           1  \n",
              "10          3        68            0      215850           1  \n",
              "11          3        68            0      215850           1  \n",
              "12          3        68            0      215850           1  \n",
              "13          3        90            0       18778           1  \n",
              "14          3        90            0       18778           1  \n",
              "15          3        90            0       18778           1  \n",
              "16         10        32            0       75088           1  \n",
              "17         10        32            0       75088           1  \n",
              "18         10        32            0       65704           1  \n",
              "19          9        75            0      337837           0  "
            ],
            "text/html": [
              "\n",
              "  <div id=\"df-f060620e-5ed7-4cde-817f-3bf47e5ca91f\">\n",
              "    <div class=\"colab-df-container\">\n",
              "      <div>\n",
              "<style scoped>\n",
              "    .dataframe tbody tr th:only-of-type {\n",
              "        vertical-align: middle;\n",
              "    }\n",
              "\n",
              "    .dataframe tbody tr th {\n",
              "        vertical-align: top;\n",
              "    }\n",
              "\n",
              "    .dataframe thead th {\n",
              "        text-align: right;\n",
              "    }\n",
              "</style>\n",
              "<table border=\"1\" class=\"dataframe\">\n",
              "  <thead>\n",
              "    <tr style=\"text-align: right;\">\n",
              "      <th></th>\n",
              "      <th>Latitude</th>\n",
              "      <th>Longitude</th>\n",
              "      <th>Day</th>\n",
              "      <th>Hour</th>\n",
              "      <th>Minute</th>\n",
              "      <th>Duration</th>\n",
              "      <th>RemainingTime</th>\n",
              "      <th>Resources</th>\n",
              "      <th>Coverage</th>\n",
              "      <th>OnPeakHours</th>\n",
              "      <th>GridNumber</th>\n",
              "      <th>Ligitimacy</th>\n",
              "    </tr>\n",
              "  </thead>\n",
              "  <tbody>\n",
              "    <tr>\n",
              "      <th>0</th>\n",
              "      <td>45.442142</td>\n",
              "      <td>-75.303369</td>\n",
              "      <td>1</td>\n",
              "      <td>4</td>\n",
              "      <td>13</td>\n",
              "      <td>40</td>\n",
              "      <td>40</td>\n",
              "      <td>9</td>\n",
              "      <td>91</td>\n",
              "      <td>0</td>\n",
              "      <td>131380</td>\n",
              "      <td>1</td>\n",
              "    </tr>\n",
              "    <tr>\n",
              "      <th>1</th>\n",
              "      <td>45.442154</td>\n",
              "      <td>-75.304366</td>\n",
              "      <td>1</td>\n",
              "      <td>4</td>\n",
              "      <td>23</td>\n",
              "      <td>40</td>\n",
              "      <td>30</td>\n",
              "      <td>9</td>\n",
              "      <td>91</td>\n",
              "      <td>0</td>\n",
              "      <td>131380</td>\n",
              "      <td>1</td>\n",
              "    </tr>\n",
              "    <tr>\n",
              "      <th>2</th>\n",
              "      <td>45.442104</td>\n",
              "      <td>-75.303963</td>\n",
              "      <td>1</td>\n",
              "      <td>4</td>\n",
              "      <td>33</td>\n",
              "      <td>40</td>\n",
              "      <td>20</td>\n",
              "      <td>9</td>\n",
              "      <td>91</td>\n",
              "      <td>0</td>\n",
              "      <td>121996</td>\n",
              "      <td>1</td>\n",
              "    </tr>\n",
              "    <tr>\n",
              "      <th>3</th>\n",
              "      <td>45.441868</td>\n",
              "      <td>-75.303577</td>\n",
              "      <td>1</td>\n",
              "      <td>4</td>\n",
              "      <td>43</td>\n",
              "      <td>40</td>\n",
              "      <td>10</td>\n",
              "      <td>9</td>\n",
              "      <td>91</td>\n",
              "      <td>0</td>\n",
              "      <td>121996</td>\n",
              "      <td>1</td>\n",
              "    </tr>\n",
              "    <tr>\n",
              "      <th>4</th>\n",
              "      <td>45.447727</td>\n",
              "      <td>-75.147722</td>\n",
              "      <td>2</td>\n",
              "      <td>15</td>\n",
              "      <td>49</td>\n",
              "      <td>30</td>\n",
              "      <td>30</td>\n",
              "      <td>5</td>\n",
              "      <td>47</td>\n",
              "      <td>0</td>\n",
              "      <td>140784</td>\n",
              "      <td>1</td>\n",
              "    </tr>\n",
              "    <tr>\n",
              "      <th>5</th>\n",
              "      <td>45.447747</td>\n",
              "      <td>-75.147951</td>\n",
              "      <td>2</td>\n",
              "      <td>15</td>\n",
              "      <td>59</td>\n",
              "      <td>30</td>\n",
              "      <td>20</td>\n",
              "      <td>5</td>\n",
              "      <td>47</td>\n",
              "      <td>0</td>\n",
              "      <td>140784</td>\n",
              "      <td>1</td>\n",
              "    </tr>\n",
              "    <tr>\n",
              "      <th>6</th>\n",
              "      <td>45.447790</td>\n",
              "      <td>-75.148303</td>\n",
              "      <td>2</td>\n",
              "      <td>16</td>\n",
              "      <td>9</td>\n",
              "      <td>30</td>\n",
              "      <td>10</td>\n",
              "      <td>5</td>\n",
              "      <td>47</td>\n",
              "      <td>0</td>\n",
              "      <td>140784</td>\n",
              "      <td>1</td>\n",
              "    </tr>\n",
              "    <tr>\n",
              "      <th>7</th>\n",
              "      <td>45.508896</td>\n",
              "      <td>-75.259807</td>\n",
              "      <td>2</td>\n",
              "      <td>12</td>\n",
              "      <td>27</td>\n",
              "      <td>30</td>\n",
              "      <td>30</td>\n",
              "      <td>4</td>\n",
              "      <td>43</td>\n",
              "      <td>0</td>\n",
              "      <td>243994</td>\n",
              "      <td>1</td>\n",
              "    </tr>\n",
              "    <tr>\n",
              "      <th>8</th>\n",
              "      <td>45.508748</td>\n",
              "      <td>-75.260652</td>\n",
              "      <td>2</td>\n",
              "      <td>12</td>\n",
              "      <td>37</td>\n",
              "      <td>30</td>\n",
              "      <td>20</td>\n",
              "      <td>4</td>\n",
              "      <td>43</td>\n",
              "      <td>0</td>\n",
              "      <td>243994</td>\n",
              "      <td>1</td>\n",
              "    </tr>\n",
              "    <tr>\n",
              "      <th>9</th>\n",
              "      <td>45.508082</td>\n",
              "      <td>-75.260380</td>\n",
              "      <td>2</td>\n",
              "      <td>12</td>\n",
              "      <td>47</td>\n",
              "      <td>30</td>\n",
              "      <td>10</td>\n",
              "      <td>4</td>\n",
              "      <td>43</td>\n",
              "      <td>0</td>\n",
              "      <td>243994</td>\n",
              "      <td>1</td>\n",
              "    </tr>\n",
              "    <tr>\n",
              "      <th>10</th>\n",
              "      <td>45.494207</td>\n",
              "      <td>-75.195014</td>\n",
              "      <td>1</td>\n",
              "      <td>11</td>\n",
              "      <td>37</td>\n",
              "      <td>30</td>\n",
              "      <td>30</td>\n",
              "      <td>3</td>\n",
              "      <td>68</td>\n",
              "      <td>0</td>\n",
              "      <td>215850</td>\n",
              "      <td>1</td>\n",
              "    </tr>\n",
              "    <tr>\n",
              "      <th>11</th>\n",
              "      <td>45.493973</td>\n",
              "      <td>-75.195148</td>\n",
              "      <td>1</td>\n",
              "      <td>11</td>\n",
              "      <td>47</td>\n",
              "      <td>30</td>\n",
              "      <td>20</td>\n",
              "      <td>3</td>\n",
              "      <td>68</td>\n",
              "      <td>0</td>\n",
              "      <td>215850</td>\n",
              "      <td>1</td>\n",
              "    </tr>\n",
              "    <tr>\n",
              "      <th>12</th>\n",
              "      <td>45.493472</td>\n",
              "      <td>-75.195086</td>\n",
              "      <td>1</td>\n",
              "      <td>11</td>\n",
              "      <td>57</td>\n",
              "      <td>30</td>\n",
              "      <td>10</td>\n",
              "      <td>3</td>\n",
              "      <td>68</td>\n",
              "      <td>0</td>\n",
              "      <td>215850</td>\n",
              "      <td>1</td>\n",
              "    </tr>\n",
              "    <tr>\n",
              "      <th>13</th>\n",
              "      <td>45.381415</td>\n",
              "      <td>-75.257745</td>\n",
              "      <td>0</td>\n",
              "      <td>19</td>\n",
              "      <td>22</td>\n",
              "      <td>30</td>\n",
              "      <td>30</td>\n",
              "      <td>3</td>\n",
              "      <td>90</td>\n",
              "      <td>0</td>\n",
              "      <td>18778</td>\n",
              "      <td>1</td>\n",
              "    </tr>\n",
              "    <tr>\n",
              "      <th>14</th>\n",
              "      <td>45.381364</td>\n",
              "      <td>-75.258572</td>\n",
              "      <td>0</td>\n",
              "      <td>19</td>\n",
              "      <td>32</td>\n",
              "      <td>30</td>\n",
              "      <td>20</td>\n",
              "      <td>3</td>\n",
              "      <td>90</td>\n",
              "      <td>0</td>\n",
              "      <td>18778</td>\n",
              "      <td>1</td>\n",
              "    </tr>\n",
              "    <tr>\n",
              "      <th>15</th>\n",
              "      <td>45.381307</td>\n",
              "      <td>-75.258398</td>\n",
              "      <td>0</td>\n",
              "      <td>19</td>\n",
              "      <td>42</td>\n",
              "      <td>30</td>\n",
              "      <td>10</td>\n",
              "      <td>3</td>\n",
              "      <td>90</td>\n",
              "      <td>0</td>\n",
              "      <td>18778</td>\n",
              "      <td>1</td>\n",
              "    </tr>\n",
              "    <tr>\n",
              "      <th>16</th>\n",
              "      <td>45.410236</td>\n",
              "      <td>-75.208755</td>\n",
              "      <td>3</td>\n",
              "      <td>22</td>\n",
              "      <td>25</td>\n",
              "      <td>30</td>\n",
              "      <td>30</td>\n",
              "      <td>10</td>\n",
              "      <td>32</td>\n",
              "      <td>0</td>\n",
              "      <td>75088</td>\n",
              "      <td>1</td>\n",
              "    </tr>\n",
              "    <tr>\n",
              "      <th>17</th>\n",
              "      <td>45.409787</td>\n",
              "      <td>-75.208022</td>\n",
              "      <td>3</td>\n",
              "      <td>22</td>\n",
              "      <td>35</td>\n",
              "      <td>30</td>\n",
              "      <td>20</td>\n",
              "      <td>10</td>\n",
              "      <td>32</td>\n",
              "      <td>0</td>\n",
              "      <td>75088</td>\n",
              "      <td>1</td>\n",
              "    </tr>\n",
              "    <tr>\n",
              "      <th>18</th>\n",
              "      <td>45.409407</td>\n",
              "      <td>-75.207825</td>\n",
              "      <td>3</td>\n",
              "      <td>22</td>\n",
              "      <td>45</td>\n",
              "      <td>30</td>\n",
              "      <td>10</td>\n",
              "      <td>10</td>\n",
              "      <td>32</td>\n",
              "      <td>0</td>\n",
              "      <td>65704</td>\n",
              "      <td>1</td>\n",
              "    </tr>\n",
              "    <tr>\n",
              "      <th>19</th>\n",
              "      <td>45.565229</td>\n",
              "      <td>-75.234010</td>\n",
              "      <td>5</td>\n",
              "      <td>12</td>\n",
              "      <td>9</td>\n",
              "      <td>50</td>\n",
              "      <td>50</td>\n",
              "      <td>9</td>\n",
              "      <td>75</td>\n",
              "      <td>0</td>\n",
              "      <td>337837</td>\n",
              "      <td>0</td>\n",
              "    </tr>\n",
              "  </tbody>\n",
              "</table>\n",
              "</div>\n",
              "      <button class=\"colab-df-convert\" onclick=\"convertToInteractive('df-f060620e-5ed7-4cde-817f-3bf47e5ca91f')\"\n",
              "              title=\"Convert this dataframe to an interactive table.\"\n",
              "              style=\"display:none;\">\n",
              "        \n",
              "  <svg xmlns=\"http://www.w3.org/2000/svg\" height=\"24px\"viewBox=\"0 0 24 24\"\n",
              "       width=\"24px\">\n",
              "    <path d=\"M0 0h24v24H0V0z\" fill=\"none\"/>\n",
              "    <path d=\"M18.56 5.44l.94 2.06.94-2.06 2.06-.94-2.06-.94-.94-2.06-.94 2.06-2.06.94zm-11 1L8.5 8.5l.94-2.06 2.06-.94-2.06-.94L8.5 2.5l-.94 2.06-2.06.94zm10 10l.94 2.06.94-2.06 2.06-.94-2.06-.94-.94-2.06-.94 2.06-2.06.94z\"/><path d=\"M17.41 7.96l-1.37-1.37c-.4-.4-.92-.59-1.43-.59-.52 0-1.04.2-1.43.59L10.3 9.45l-7.72 7.72c-.78.78-.78 2.05 0 2.83L4 21.41c.39.39.9.59 1.41.59.51 0 1.02-.2 1.41-.59l7.78-7.78 2.81-2.81c.8-.78.8-2.07 0-2.86zM5.41 20L4 18.59l7.72-7.72 1.47 1.35L5.41 20z\"/>\n",
              "  </svg>\n",
              "      </button>\n",
              "      \n",
              "  <style>\n",
              "    .colab-df-container {\n",
              "      display:flex;\n",
              "      flex-wrap:wrap;\n",
              "      gap: 12px;\n",
              "    }\n",
              "\n",
              "    .colab-df-convert {\n",
              "      background-color: #E8F0FE;\n",
              "      border: none;\n",
              "      border-radius: 50%;\n",
              "      cursor: pointer;\n",
              "      display: none;\n",
              "      fill: #1967D2;\n",
              "      height: 32px;\n",
              "      padding: 0 0 0 0;\n",
              "      width: 32px;\n",
              "    }\n",
              "\n",
              "    .colab-df-convert:hover {\n",
              "      background-color: #E2EBFA;\n",
              "      box-shadow: 0px 1px 2px rgba(60, 64, 67, 0.3), 0px 1px 3px 1px rgba(60, 64, 67, 0.15);\n",
              "      fill: #174EA6;\n",
              "    }\n",
              "\n",
              "    [theme=dark] .colab-df-convert {\n",
              "      background-color: #3B4455;\n",
              "      fill: #D2E3FC;\n",
              "    }\n",
              "\n",
              "    [theme=dark] .colab-df-convert:hover {\n",
              "      background-color: #434B5C;\n",
              "      box-shadow: 0px 1px 3px 1px rgba(0, 0, 0, 0.15);\n",
              "      filter: drop-shadow(0px 1px 2px rgba(0, 0, 0, 0.3));\n",
              "      fill: #FFFFFF;\n",
              "    }\n",
              "  </style>\n",
              "\n",
              "      <script>\n",
              "        const buttonEl =\n",
              "          document.querySelector('#df-f060620e-5ed7-4cde-817f-3bf47e5ca91f button.colab-df-convert');\n",
              "        buttonEl.style.display =\n",
              "          google.colab.kernel.accessAllowed ? 'block' : 'none';\n",
              "\n",
              "        async function convertToInteractive(key) {\n",
              "          const element = document.querySelector('#df-f060620e-5ed7-4cde-817f-3bf47e5ca91f');\n",
              "          const dataTable =\n",
              "            await google.colab.kernel.invokeFunction('convertToInteractive',\n",
              "                                                     [key], {});\n",
              "          if (!dataTable) return;\n",
              "\n",
              "          const docLinkHtml = 'Like what you see? Visit the ' +\n",
              "            '<a target=\"_blank\" href=https://colab.research.google.com/notebooks/data_table.ipynb>data table notebook</a>'\n",
              "            + ' to learn more about interactive tables.';\n",
              "          element.innerHTML = '';\n",
              "          dataTable['output_type'] = 'display_data';\n",
              "          await google.colab.output.renderOutput(dataTable, element);\n",
              "          const docLink = document.createElement('div');\n",
              "          docLink.innerHTML = docLinkHtml;\n",
              "          element.appendChild(docLink);\n",
              "        }\n",
              "      </script>\n",
              "    </div>\n",
              "  </div>\n",
              "  "
            ]
          },
          "metadata": {},
          "execution_count": 18
        }
      ]
    },
    {
      "cell_type": "markdown",
      "source": [
        "###**Scaling and split the Data**"
      ],
      "metadata": {
        "id": "cj3RNEYor1rf"
      }
    },
    {
      "cell_type": "code",
      "source": [
        "scalar=StandardScaler()\n",
        "X = scalar.fit_transform(data.drop('Ligitimacy', 1))\n",
        "y = data['Ligitimacy'].values"
      ],
      "metadata": {
        "id": "svIBMzpOryFT",
        "colab": {
          "base_uri": "https://localhost:8080/"
        },
        "outputId": "c264a827-9b21-4a82-c823-bfe28a6b96a4"
      },
      "execution_count": null,
      "outputs": [
        {
          "output_type": "stream",
          "name": "stderr",
          "text": [
            "/usr/local/lib/python3.7/dist-packages/ipykernel_launcher.py:2: FutureWarning: In a future version of pandas all arguments of DataFrame.drop except for the argument 'labels' will be keyword-only\n",
            "  \n"
          ]
        }
      ]
    },
    {
      "cell_type": "markdown",
      "source": [
        "Split the data"
      ],
      "metadata": {
        "id": "HYceKNxBdd5R"
      }
    },
    {
      "cell_type": "code",
      "source": [
        "X_train, X_test, y_train, y_test = train_test_split(X , y,test_size=0.2, random_state= 0)"
      ],
      "metadata": {
        "id": "tX8gv4E1Fqqo"
      },
      "execution_count": null,
      "outputs": []
    },
    {
      "cell_type": "markdown",
      "source": [
        "###**Creating MLModels**"
      ],
      "metadata": {
        "id": "C_awC7nBzdTn"
      }
    },
    {
      "cell_type": "code",
      "source": [
        "rf = RandomForestClassifier(max_depth=10,random_state=0)\n",
        "ad=AdaBoostClassifier(random_state = 0)\n",
        "models=[rf,ad]\n",
        "names=[\"RF\",\"AdaBoost\"]"
      ],
      "metadata": {
        "id": "pDb7LxCztB9Q"
      },
      "execution_count": null,
      "outputs": []
    },
    {
      "cell_type": "markdown",
      "source": [
        "###**Functions**"
      ],
      "metadata": {
        "id": "bM5qISQvzile"
      }
    },
    {
      "cell_type": "code",
      "source": [
        "def MLModels(clf,xtr,ytr,xte,yte,name):\n",
        "  Scorest=[]\n",
        "  Scoresr=[]\n",
        "  clf.fit(xtr,ytr)\n",
        "  Scoretr=clf.score(xtr,ytr)\n",
        "  Scoret=clf.score(xte,yte)\n",
        "  pred=clf.predict(xte)\n",
        "  predd=clf.predict(xtr)\n",
        "  trn= ['Legitimate', 'Fake Legitimate']\n",
        "  print(\"Train Accuracy\\n\",classification_report(ytr,predd,target_names=trn))\n",
        "  print(\"Test Accuracy\\n\",classification_report(yte,pred ,target_names=trn))\n",
        "  if name==\"RF\":\n",
        "    print('RF Train Accuracy={:.2f}\\n , RF Test Accuracy={:.2f} \\n'\n",
        "         .format(Scoretr,Scoret))\n",
        "  elif name==\"AdaBoost\":\n",
        "    print('AdaBoost Train Accuracy={:.2f}\\n , AdaBoost Test Accuracy={:.2f} \\n'\n",
        "         .format(Scoretr,Scoret))\n",
        "  Scorest.append(Scoret)  \n",
        "  Scoresr.append(Scoretr)\n",
        "  return Scorest,Scoresr, predd , pred\n",
        "def Barplot(acc):\n",
        "  fig = plt.figure(figsize = (10, 5))\n",
        "  labels = [\"RF\",\"Adaboost\"]\n",
        "  Accuracy = acc\n",
        "  plt.bar(labels,Accuracy,width = 0.3)\n",
        "  plt.title('Accuracy comparison results ')\n",
        "  plt.xlabel('Models ')\n",
        "  plt.xticks(rotation=45, ha='right')\n",
        "  plt.ylabel('Accuracy')\n",
        "  plt.show()"
      ],
      "metadata": {
        "id": "mwk3mqd3tDfk"
      },
      "execution_count": null,
      "outputs": []
    },
    {
      "cell_type": "markdown",
      "source": [
        "###MLModels"
      ],
      "metadata": {
        "id": "wSebbLTTzoi-"
      }
    },
    {
      "cell_type": "code",
      "source": [
        "testacc=[]\n",
        "trainacc = []\n",
        "for i,n in zip(models, names):\n",
        "  acctr,accte,predd,pred= MLModels(i,X_train,y_train,X_test,y_test,n)\n",
        "  testacc.append(accte)\n",
        "  trainacc.append(acctr)"
      ],
      "metadata": {
        "colab": {
          "base_uri": "https://localhost:8080/"
        },
        "id": "GHj89LMdtDcU",
        "outputId": "14e546fd-fcad-4135-bc58-244b004dff29"
      },
      "execution_count": null,
      "outputs": [
        {
          "output_type": "stream",
          "name": "stdout",
          "text": [
            "Train Accuracy\n",
            "                  precision    recall  f1-score   support\n",
            "\n",
            "     Legitimate       0.99      0.84      0.91      1507\n",
            "Fake Legitimate       0.98      1.00      0.99     10080\n",
            "\n",
            "       accuracy                           0.98     11587\n",
            "      macro avg       0.99      0.92      0.95     11587\n",
            "   weighted avg       0.98      0.98      0.98     11587\n",
            "\n",
            "Test Accuracy\n",
            "                  precision    recall  f1-score   support\n",
            "\n",
            "     Legitimate       0.97      0.79      0.87       390\n",
            "Fake Legitimate       0.97      1.00      0.98      2507\n",
            "\n",
            "       accuracy                           0.97      2897\n",
            "      macro avg       0.97      0.90      0.93      2897\n",
            "   weighted avg       0.97      0.97      0.97      2897\n",
            "\n",
            "RF Train Accuracy=0.98\n",
            " , RF Test Accuracy=0.97 \n",
            "\n",
            "Train Accuracy\n",
            "                  precision    recall  f1-score   support\n",
            "\n",
            "     Legitimate       0.88      0.76      0.82      1507\n",
            "Fake Legitimate       0.97      0.99      0.97     10080\n",
            "\n",
            "       accuracy                           0.96     11587\n",
            "      macro avg       0.92      0.87      0.90     11587\n",
            "   weighted avg       0.95      0.96      0.95     11587\n",
            "\n",
            "Test Accuracy\n",
            "                  precision    recall  f1-score   support\n",
            "\n",
            "     Legitimate       0.88      0.75      0.81       390\n",
            "Fake Legitimate       0.96      0.98      0.97      2507\n",
            "\n",
            "       accuracy                           0.95      2897\n",
            "      macro avg       0.92      0.87      0.89      2897\n",
            "   weighted avg       0.95      0.95      0.95      2897\n",
            "\n",
            "AdaBoost Train Accuracy=0.96\n",
            " , AdaBoost Test Accuracy=0.95 \n",
            "\n"
          ]
        }
      ]
    },
    {
      "cell_type": "markdown",
      "source": [
        "###Comparing Results For Training and Test Accuracies before CGAN"
      ],
      "metadata": {
        "id": "DgGd6pX9zuzP"
      }
    },
    {
      "cell_type": "markdown",
      "source": [
        "Train **Accuracy**"
      ],
      "metadata": {
        "id": "k9D2X4IP0pjP"
      }
    },
    {
      "cell_type": "code",
      "source": [
        "flat_list = [x for xs in trainacc for x in xs]\n",
        "flat_list2 = [x for xs in testacc for x in xs]"
      ],
      "metadata": {
        "id": "xh9EOnGUtNA1"
      },
      "execution_count": null,
      "outputs": []
    },
    {
      "cell_type": "code",
      "source": [
        "Barplot(flat_list)"
      ],
      "metadata": {
        "colab": {
          "base_uri": "https://localhost:8080/",
          "height": 380
        },
        "id": "ICRWoxhmtO-L",
        "outputId": "e7fe8894-151c-4214-c960-4886ea90a1e8"
      },
      "execution_count": null,
      "outputs": [
        {
          "output_type": "display_data",
          "data": {
            "text/plain": [
              "<Figure size 720x360 with 1 Axes>"
            ],
            "image/png": "[encoded data removed]"
          },
          "metadata": {
            "needs_background": "light"
          }
        }
      ]
    },
    {
      "cell_type": "markdown",
      "source": [
        "Test Accuracy"
      ],
      "metadata": {
        "id": "CiIxEPbm0sme"
      }
    },
    {
      "cell_type": "code",
      "source": [
        "Barplot(flat_list2)"
      ],
      "metadata": {
        "colab": {
          "base_uri": "https://localhost:8080/",
          "height": 380
        },
        "id": "LAVSxUTetTrE",
        "outputId": "5028995c-2ed8-4c38-a3f4-8cc2019fd59b"
      },
      "execution_count": null,
      "outputs": [
        {
          "output_type": "display_data",
          "data": {
            "text/plain": [
              "<Figure size 720x360 with 1 Axes>"
            ],
            "image/png": "[encoded data removed]"
          },
          "metadata": {
            "needs_background": "light"
          }
        }
      ]
    },
    {
      "cell_type": "markdown",
      "source": [
        "###**Define CGAN**"
      ],
      "metadata": {
        "id": "a_i5YWnT0yBW"
      }
    },
    {
      "cell_type": "markdown",
      "source": [
        "Constant Parameters"
      ],
      "metadata": {
        "id": "eQWtehFT03lP"
      }
    },
    {
      "cell_type": "code",
      "source": [
        "batch_size = 64\n",
        "num_channels = len(list(data.columns[data.columns != 'Ligitimacy' ]))\n",
        "num_classes = 2\n",
        "latent_dim = 128"
      ],
      "metadata": {
        "id": "FR-kuSgDtfKS"
      },
      "execution_count": null,
      "outputs": []
    },
    {
      "cell_type": "code",
      "source": [
        "generator_in_channels = latent_dim + num_classes\n",
        "discriminator_in_channels = num_channels + num_classes\n",
        "  # Create the discriminator.\n",
        "discriminator = keras.Sequential(\n",
        "      [\n",
        "          keras.layers.InputLayer(input_shape = discriminator_in_channels ),\n",
        "          layers.Dense(latent_dim*3),\n",
        "          layers.Dropout(0.2),          \n",
        "          layers.LeakyReLU(alpha=0.2),\n",
        "          layers.BatchNormalization(momentum=0.8),\n",
        "       \n",
        "          layers.Dense(latent_dim*2),\n",
        "          layers.Dropout(0.2),          \n",
        "          layers.LeakyReLU(alpha=0.2),\n",
        "          layers.BatchNormalization(momentum=0.8),\n",
        "       \n",
        "          layers.Dense(latent_dim),\n",
        "          layers.Dropout(0.2),          \n",
        "          layers.LeakyReLU(alpha=0.2),\n",
        "          layers.BatchNormalization(momentum=0.8),\n",
        "       \n",
        "          layers.Dense(1, activation=\"tanh\")\n",
        "\n",
        "      ],\n",
        "      name=\"discriminator\",\n",
        "  )\n",
        "# Create the generator.\n",
        "generator = keras.Sequential(\n",
        "    [\n",
        "          keras.layers.InputLayer(input_shape = generator_in_channels ),\n",
        "          layers.Dense(latent_dim),\n",
        "          layers.Dropout(0.2),          \n",
        "          layers.LeakyReLU(alpha=0.2),\n",
        "          layers.BatchNormalization(momentum=0.8),\n",
        "       \n",
        "          layers.Dense(latent_dim*2),\n",
        "          layers.Dropout(0.2),          \n",
        "          layers.LeakyReLU(alpha=0.2),\n",
        "          layers.BatchNormalization(momentum=0.8),\n",
        "       \n",
        "          layers.Dense(latent_dim*3),\n",
        "          layers.Dropout(0.2),          \n",
        "          layers.LeakyReLU(alpha=0.2),\n",
        "          layers.BatchNormalization(momentum=0.8),\n",
        "     \n",
        "        layers.Dense(num_channels, activation=\"tanh\")\n",
        "    \n",
        "    ],\n",
        "    name=\"generator\",\n",
        ")\n"
      ],
      "metadata": {
        "id": "teNI8bdQtwWQ"
      },
      "execution_count": null,
      "outputs": []
    },
    {
      "cell_type": "code",
      "source": [
        "class ConditionalGAN(keras.Model):\n",
        "\n",
        "\n",
        "    def __init__(self, discriminator, generator, latent_dim):\n",
        "\n",
        "        super(ConditionalGAN, self).__init__()\n",
        "\n",
        "        self.discriminator = discriminator\n",
        "        self.generator = generator\n",
        "        self.latent_dim = latent_dim\n",
        "        self.gen_loss_tracker = keras.metrics.Mean(name=\"generator_loss\")\n",
        "        self.disc_loss_tracker = keras.metrics.Mean(name=\"discriminator_loss\")\n",
        "        #  # we don't train discriminator when training generator\n",
        "\n",
        "    @property\n",
        "    def metrics(self):\n",
        "        return [self.gen_loss_tracker, self.disc_loss_tracker]\n",
        "\n",
        "    def compile(self, d_optimizer, g_optimizer, loss_fn):\n",
        "        super(ConditionalGAN, self).compile()\n",
        "        self.d_optimizer = d_optimizer\n",
        "        self.g_optimizer = g_optimizer\n",
        "        self.loss_fn = loss_fn\n",
        "    def train_step(self, data):\n",
        "        # Unpack the data.\n",
        "        real_Tasks, one_hot_labels = data\n",
        "        print(data)\n",
        "        # Add dummy dimensions to the labels so that they can be concatenated with\n",
        "        # the Tasks. This is for the discriminator.\n",
        "\n",
        "        Task_one_hot_labels = one_hot_labels[:, :, None, None]\n",
        "        Task_one_hot_labels = tf.reshape(\n",
        "            Task_one_hot_labels, (-1,  num_classes)\n",
        "        )\n",
        "\n",
        "        # Sample random points in the latent space and concatenate the labels.\n",
        "        # This is for the generator.\n",
        "        batch_size = tf.shape(real_Tasks)[0]\n",
        "        random_latent_vectors = tf.random.normal(shape=(batch_size, self.latent_dim))\n",
        "        random_vector_labels = tf.concat(\n",
        "            [random_latent_vectors, one_hot_labels], axis=1\n",
        "        )\n",
        "\n",
        "        # Decode the noise (guided by labels) to fake Tasks.\n",
        "        generated_Tasks = self.generator(random_vector_labels)\n",
        "\n",
        "        # Combine them with real Tasks. Note that we are concatenating the labels\n",
        "        # with these Tasks here.\n",
        "        fake_Task_and_labels = tf.concat([generated_Tasks, Task_one_hot_labels], -1)\n",
        "\n",
        "        real_Task_and_labels = tf.concat([real_Tasks, Task_one_hot_labels], -1)\n",
        "\n",
        "        combined_Tasks = tf.concat(\n",
        "            [fake_Task_and_labels, real_Task_and_labels], axis=0\n",
        "        )\n",
        "\n",
        "        # Assemble labels discriminating real from fake Tasks.\n",
        "        labels = tf.concat(\n",
        "            [tf.ones((batch_size, 1)), tf.zeros((batch_size, 1))], axis=0\n",
        "        )\n",
        "\n",
        "        # Train the discriminator.\n",
        "        with tf.GradientTape() as tape:\n",
        "\n",
        "            predictions = self.discriminator(combined_Tasks)\n",
        "            d_loss = self.loss_fn(labels, predictions)\n",
        "        grads = tape.gradient(d_loss, self.discriminator.trainable_weights)\n",
        "        self.d_optimizer.apply_gradients(\n",
        "            zip(grads, self.discriminator.trainable_weights)\n",
        "        )\n",
        "\n",
        "        # Sample random points in the latent space.\n",
        "        random_latent_vectors = tf.random.normal(shape=(batch_size, self.latent_dim))\n",
        "        random_vector_labels = tf.concat(\n",
        "            [random_latent_vectors, one_hot_labels], axis=1\n",
        "        )\n",
        "\n",
        "        # Assemble labels that say \"all real Tasks\".\n",
        "        misleading_labels = tf.zeros((batch_size, 1))\n",
        "        \n",
        "        # Train the generator (note that we should *not* update the weights\n",
        "        # of the discriminator)!\n",
        "        with tf.GradientTape() as tape:\n",
        "            fake_Tasks = self.generator(random_vector_labels)\n",
        "            fake_Task_and_labels = tf.concat([fake_Tasks, Task_one_hot_labels], -1)\n",
        "\n",
        "            predictions = self.discriminator(fake_Task_and_labels)\n",
        "            g_loss = self.loss_fn(misleading_labels, predictions)\n",
        "        grads = tape.gradient(g_loss, self.generator.trainable_weights)\n",
        "        self.g_optimizer.apply_gradients(zip(grads, self.generator.trainable_weights))\n",
        "\n",
        "        # Monitor loss.\n",
        "        self.gen_loss_tracker.update_state(g_loss)\n",
        "        self.disc_loss_tracker.update_state(d_loss)\n",
        "        return {\n",
        "            \"g_loss\": self.gen_loss_tracker.result(),\n",
        "            \"d_loss\": self.disc_loss_tracker.result(),\n",
        "        }"
      ],
      "metadata": {
        "id": "pQkZhyGet34A"
      },
      "execution_count": null,
      "outputs": []
    },
    {
      "cell_type": "markdown",
      "source": [
        "Preparing Data for training the CGAN"
      ],
      "metadata": {
        "id": "HZF2XV_f1Wav"
      }
    },
    {
      "cell_type": "code",
      "source": [
        "X_Train_GANS = X_train.astype(\"float32\")\n",
        "y_Train_GANS = keras.utils.to_categorical(y_train, 2)\n",
        "GAN_DataSet = tf.data.Dataset.from_tensor_slices((X_Train_GANS, y_Train_GANS))\n",
        "GAN_DataSet = GAN_DataSet.shuffle(buffer_size=2048).batch(batch_size)"
      ],
      "metadata": {
        "id": "_oDuqgkDt5--"
      },
      "execution_count": null,
      "outputs": []
    },
    {
      "cell_type": "markdown",
      "source": [
        "Train CGAN"
      ],
      "metadata": {
        "id": "GkY6ewj01bQP"
      }
    },
    {
      "cell_type": "code",
      "source": [
        "GAN = ConditionalGAN(discriminator=discriminator, generator=generator, latent_dim=latent_dim)\n",
        "GAN.compile(\n",
        "    d_optimizer=keras.optimizers.Adam(learning_rate=0.0002),\n",
        "    g_optimizer=keras.optimizers.Adam(learning_rate=0.0002),\n",
        "    loss_fn=keras.losses.BinaryCrossentropy(from_logits=True),\n",
        ")\n",
        "\n",
        "GAN.fit(GAN_DataSet, epochs=32)"
      ],
      "metadata": {
        "colab": {
          "base_uri": "https://localhost:8080/"
        },
        "id": "WZnwJe1ZuU2w",
        "outputId": "9cafbf34-3b3a-47f1-e769-6139a9959f72"
      },
      "execution_count": null,
      "outputs": [
        {
          "output_type": "stream",
          "name": "stdout",
          "text": [
            "Epoch 1/32\n",
            "(<tf.Tensor 'IteratorGetNext:0' shape=(None, 11) dtype=float32>, <tf.Tensor 'IteratorGetNext:1' shape=(None, 2) dtype=float32>)\n",
            "(<tf.Tensor 'IteratorGetNext:0' shape=(None, 11) dtype=float32>, <tf.Tensor 'IteratorGetNext:1' shape=(None, 2) dtype=float32>)\n",
            "182/182 [==============================] - 5s 13ms/step - g_loss: 0.9477 - d_loss: 0.5217\n",
            "Epoch 2/32\n",
            "182/182 [==============================] - 2s 13ms/step - g_loss: 1.2672 - d_loss: 0.3830\n",
            "Epoch 3/32\n",
            "182/182 [==============================] - 2s 13ms/step - g_loss: 1.3111 - d_loss: 0.3150\n",
            "Epoch 4/32\n",
            "182/182 [==============================] - 2s 13ms/step - g_loss: 1.3127 - d_loss: 0.3148\n",
            "Epoch 5/32\n",
            "182/182 [==============================] - 3s 18ms/step - g_loss: 1.3127 - d_loss: 0.3136\n",
            "Epoch 6/32\n",
            "182/182 [==============================] - 2s 13ms/step - g_loss: 1.3130 - d_loss: 0.3134\n",
            "Epoch 7/32\n",
            "182/182 [==============================] - 2s 13ms/step - g_loss: 1.3131 - d_loss: 0.3133\n",
            "Epoch 8/32\n",
            "182/182 [==============================] - 2s 13ms/step - g_loss: 1.3131 - d_loss: 0.3133\n",
            "Epoch 9/32\n",
            "182/182 [==============================] - 2s 13ms/step - g_loss: 1.3132 - d_loss: 0.3133\n",
            "Epoch 10/32\n",
            "182/182 [==============================] - 2s 13ms/step - g_loss: 1.3132 - d_loss: 0.3133\n",
            "Epoch 11/32\n",
            "182/182 [==============================] - 2s 13ms/step - g_loss: 1.3132 - d_loss: 0.3133\n",
            "Epoch 12/32\n",
            "182/182 [==============================] - 2s 13ms/step - g_loss: 1.3132 - d_loss: 0.3133\n",
            "Epoch 13/32\n",
            "182/182 [==============================] - 2s 13ms/step - g_loss: 1.3132 - d_loss: 0.3133\n",
            "Epoch 14/32\n",
            "182/182 [==============================] - 2s 13ms/step - g_loss: 1.3132 - d_loss: 0.3133\n",
            "Epoch 15/32\n",
            "182/182 [==============================] - 2s 13ms/step - g_loss: 1.3132 - d_loss: 0.3133\n",
            "Epoch 16/32\n",
            "182/182 [==============================] - 2s 13ms/step - g_loss: 1.3132 - d_loss: 0.3133\n",
            "Epoch 17/32\n",
            "182/182 [==============================] - 2s 13ms/step - g_loss: 1.3132 - d_loss: 0.3133\n",
            "Epoch 18/32\n",
            "182/182 [==============================] - 2s 13ms/step - g_loss: 1.3132 - d_loss: 0.3133\n",
            "Epoch 19/32\n",
            "182/182 [==============================] - 2s 14ms/step - g_loss: 1.3132 - d_loss: 0.3133\n",
            "Epoch 20/32\n",
            "182/182 [==============================] - 2s 13ms/step - g_loss: 1.3133 - d_loss: 0.3133\n",
            "Epoch 21/32\n",
            "182/182 [==============================] - 2s 14ms/step - g_loss: 1.3133 - d_loss: 0.3133\n",
            "Epoch 22/32\n",
            "182/182 [==============================] - 2s 13ms/step - g_loss: 1.3133 - d_loss: 0.3133\n",
            "Epoch 23/32\n",
            "182/182 [==============================] - 3s 15ms/step - g_loss: 1.3133 - d_loss: 0.3133\n",
            "Epoch 24/32\n",
            "182/182 [==============================] - 3s 14ms/step - g_loss: 1.3133 - d_loss: 0.3133\n",
            "Epoch 25/32\n",
            "182/182 [==============================] - 3s 14ms/step - g_loss: 1.3133 - d_loss: 0.3133\n",
            "Epoch 26/32\n",
            "182/182 [==============================] - 3s 14ms/step - g_loss: 1.3133 - d_loss: 0.3133\n",
            "Epoch 27/32\n",
            "182/182 [==============================] - 3s 18ms/step - g_loss: 1.3133 - d_loss: 0.3133\n",
            "Epoch 28/32\n",
            "182/182 [==============================] - 3s 15ms/step - g_loss: 1.3133 - d_loss: 0.3133\n",
            "Epoch 29/32\n",
            "182/182 [==============================] - 3s 14ms/step - g_loss: 1.3133 - d_loss: 0.3133\n",
            "Epoch 30/32\n",
            "182/182 [==============================] - 2s 13ms/step - g_loss: 1.3133 - d_loss: 0.3133\n",
            "Epoch 31/32\n",
            "182/182 [==============================] - 3s 15ms/step - g_loss: 1.3133 - d_loss: 0.3133\n",
            "Epoch 32/32\n",
            "182/182 [==============================] - 3s 14ms/step - g_loss: 1.3133 - d_loss: 0.3133\n"
          ]
        },
        {
          "output_type": "execute_result",
          "data": {
            "text/plain": [
              "<keras.callbacks.History at 0x7ff638e50490>"
            ]
          },
          "metadata": {},
          "execution_count": 31
        }
      ]
    },
    {
      "cell_type": "markdown",
      "source": [
        "###Genrate "
      ],
      "metadata": {
        "id": "w0d7OVSL_AQO"
      }
    },
    {
      "cell_type": "code",
      "source": [
        "trained_gen = GAN.generator\n",
        "\n",
        "# Choose the number of intermediate images that would be generated in\n",
        "# between the interpolation + 2 (start and last images).\n",
        "num_interpolation = 8000 # @param {type:\"integer\"}\n",
        "\n",
        "# Sample noise for the interpolation.\n",
        "interpolation_noise = tf.random.normal(shape=(1, latent_dim))\n",
        "interpolation_noise = tf.repeat(interpolation_noise, repeats=num_interpolation)\n",
        "interpolation_noise = tf.reshape(interpolation_noise, (num_interpolation, latent_dim))\n",
        "\n",
        "\n",
        "def interpolate_class(number):\n",
        "    # Convert the start and end labels to one-hot encoded vectors.\n",
        "    label = keras.utils.to_categorical([number], num_classes)\n",
        "    label = tf.cast(label, tf.float32)\n",
        "\n",
        "    # Calculate the interpolation vector between the two labels.\n",
        "    percent_label = tf.linspace(0, 1, num_interpolation)[:, None]\n",
        "    percent_label = tf.cast(percent_label, tf.float32)\n",
        "    interpolation_labels = (\n",
        "        label * (1 - percent_label) + label * percent_label\n",
        "    )\n",
        "\n",
        "    # Combine the noise and the labels and run inference with the generator.\n",
        "    noise_and_labels = tf.concat([interpolation_noise, interpolation_labels], 1)\n",
        "    fake = trained_gen.predict(noise_and_labels)\n",
        "    return fake\n",
        "\n",
        "\n",
        "start_class = 0  # @param {type:\"slider\", min:0, max:9, step:1}\n",
        "end_class = 1  # @param {type:\"slider\", min:0, max:9, step:1}\n",
        "\n",
        "vertical_stack = interpolate_class(start_class)"
      ],
      "metadata": {
        "id": "Rdt_iZ5VvgGb"
      },
      "execution_count": null,
      "outputs": []
    },
    {
      "cell_type": "markdown",
      "source": [
        "###Mixing Genrated data with test data"
      ],
      "metadata": {
        "id": "ijusi7Qw_Uwv"
      }
    },
    {
      "cell_type": "code",
      "source": [
        "new_X_test = np.concatenate((vertical_stack,X_test), axis=0)"
      ],
      "metadata": {
        "id": "HC8NTCuoOt6k"
      },
      "execution_count": null,
      "outputs": []
    },
    {
      "cell_type": "code",
      "source": [
        "zeros = np.zeros(num_interpolation, int)\n",
        "new_y_test = pd.concat([pd.DataFrame(y_test), pd.DataFrame(zeros)], axis=0)"
      ],
      "metadata": {
        "id": "x4eFVO8Ax0bS"
      },
      "execution_count": null,
      "outputs": []
    },
    {
      "cell_type": "markdown",
      "source": [
        "Train Using Generated data with test data"
      ],
      "metadata": {
        "id": "LJk9RlTkZTCZ"
      }
    },
    {
      "cell_type": "code",
      "source": [
        "testaccGAN=[]\n",
        "trainaccGAN = []\n",
        "for i,n in zip(models, names):\n",
        "  accte,acctr,predd,pred= MLModels(i,X_train,y_train,new_X_test,new_y_test,n)\n",
        "  testaccGAN.append(accte)\n",
        "  trainaccGAN.append(acctr)"
      ],
      "metadata": {
        "colab": {
          "base_uri": "https://localhost:8080/"
        },
        "id": "1KNUcSN9zAUx",
        "outputId": "aaba4447-a3af-45f8-f921-d7da58bcba3f"
      },
      "execution_count": null,
      "outputs": [
        {
          "output_type": "stream",
          "name": "stdout",
          "text": [
            "Train Accuracy\n",
            "                  precision    recall  f1-score   support\n",
            "\n",
            "     Legitimate       0.99      0.84      0.91      1507\n",
            "Fake Legitimate       0.98      1.00      0.99     10080\n",
            "\n",
            "       accuracy                           0.98     11587\n",
            "      macro avg       0.99      0.92      0.95     11587\n",
            "   weighted avg       0.98      0.98      0.98     11587\n",
            "\n",
            "Test Accuracy\n",
            "                  precision    recall  f1-score   support\n",
            "\n",
            "     Legitimate       1.00      0.04      0.07      8390\n",
            "Fake Legitimate       0.24      1.00      0.38      2507\n",
            "\n",
            "       accuracy                           0.26     10897\n",
            "      macro avg       0.62      0.52      0.23     10897\n",
            "   weighted avg       0.82      0.26      0.14     10897\n",
            "\n",
            "RF Train Accuracy=0.98\n",
            " , RF Test Accuracy=0.26 \n",
            "\n",
            "Train Accuracy\n",
            "                  precision    recall  f1-score   support\n",
            "\n",
            "     Legitimate       0.88      0.76      0.82      1507\n",
            "Fake Legitimate       0.97      0.99      0.97     10080\n",
            "\n",
            "       accuracy                           0.96     11587\n",
            "      macro avg       0.92      0.87      0.90     11587\n",
            "   weighted avg       0.95      0.96      0.95     11587\n",
            "\n",
            "Test Accuracy\n",
            "                  precision    recall  f1-score   support\n",
            "\n",
            "     Legitimate       1.00      0.04      0.08      8390\n",
            "Fake Legitimate       0.24      1.00      0.38      2507\n",
            "\n",
            "       accuracy                           0.26     10897\n",
            "      macro avg       0.62      0.52      0.23     10897\n",
            "   weighted avg       0.82      0.26      0.15     10897\n",
            "\n",
            "AdaBoost Train Accuracy=0.96\n",
            " , AdaBoost Test Accuracy=0.26 \n",
            "\n"
          ]
        }
      ]
    },
    {
      "cell_type": "code",
      "source": [
        "flat_list_GAN = [x for xs in trainaccGAN for x in xs]\n",
        "flat_list_GAN_2 = [x for xs in testaccGAN for x in xs]"
      ],
      "metadata": {
        "id": "mUAC-0pjzHLL"
      },
      "execution_count": null,
      "outputs": []
    },
    {
      "cell_type": "markdown",
      "source": [
        "###After Applying the generated Data"
      ],
      "metadata": {
        "id": "Bn8a3-px1uGH"
      }
    },
    {
      "cell_type": "markdown",
      "source": [
        "Train Accuracy"
      ],
      "metadata": {
        "id": "YtFxN509YnFq"
      }
    },
    {
      "cell_type": "code",
      "source": [
        "Barplot(flat_list_GAN)"
      ],
      "metadata": {
        "colab": {
          "base_uri": "https://localhost:8080/",
          "height": 380
        },
        "id": "H1ie6hLrzKIb",
        "outputId": "3703167e-3530-4f68-8d9f-9f68c9afb021"
      },
      "execution_count": null,
      "outputs": [
        {
          "output_type": "display_data",
          "data": {
            "text/plain": [
              "<Figure size 720x360 with 1 Axes>"
            ],
            "image/png": "[encoded data removed]"
          },
          "metadata": {
            "needs_background": "light"
          }
        }
      ]
    },
    {
      "cell_type": "markdown",
      "source": [
        "Test Accuracy"
      ],
      "metadata": {
        "id": "Oh05-lqtYo0i"
      }
    },
    {
      "cell_type": "code",
      "source": [
        "Barplot(flat_list_GAN_2)"
      ],
      "metadata": {
        "colab": {
          "base_uri": "https://localhost:8080/",
          "height": 380
        },
        "id": "fIfiy8q6zNLC",
        "outputId": "e812bcfc-df4c-462b-d05d-4cd02a4ee698"
      },
      "execution_count": null,
      "outputs": [
        {
          "output_type": "display_data",
          "data": {
            "text/plain": [
              "<Figure size 720x360 with 1 Axes>"
            ],
            "image/png": "[encoded data removed]"
          },
          "metadata": {
            "needs_background": "light"
          }
        }
      ]
    },
    {
      "cell_type": "markdown",
      "source": [
        "###Genrate Noise"
      ],
      "metadata": {
        "id": "PzaQR0t5Y2iS"
      }
    },
    {
      "cell_type": "code",
      "source": [
        "discriminator = keras.Sequential(\n",
        "      [\n",
        "          keras.layers.InputLayer(input_shape =11),\n",
        "          layers.Dense(64),\n",
        "          layers.LeakyReLU(alpha=0.2),\n",
        "          layers.Dense(32),\n",
        "          layers.LeakyReLU(alpha=0.2),\n",
        "          layers.Dense(1, activation=\"tanh\")\n",
        "      ],\n",
        "      name=\"discriminator\",\n",
        " )"
      ],
      "metadata": {
        "id": "UCjJGfm4cSog"
      },
      "execution_count": null,
      "outputs": []
    },
    {
      "cell_type": "code",
      "source": [
        "GAN.discriminator = discriminator"
      ],
      "metadata": {
        "id": "z5i6EfbnCzAk"
      },
      "execution_count": null,
      "outputs": []
    },
    {
      "cell_type": "code",
      "source": [
        "noisey = GAN.discriminator.predict(new_X_test)"
      ],
      "metadata": {
        "id": "rqauLobycblq"
      },
      "execution_count": null,
      "outputs": []
    },
    {
      "cell_type": "markdown",
      "source": [
        "###Mapping Values to 0,1"
      ],
      "metadata": {
        "id": "NKjcuYZ7Y7Ww"
      }
    },
    {
      "cell_type": "code",
      "source": [
        "np.round(noisey)"
      ],
      "metadata": {
        "colab": {
          "base_uri": "https://localhost:8080/"
        },
        "id": "0DlYV0UCXxIq",
        "outputId": "34c95229-0693-4232-8bba-d605daa19762"
      },
      "execution_count": null,
      "outputs": [
        {
          "output_type": "execute_result",
          "data": {
            "text/plain": [
              "array([[-0.],\n",
              "       [-0.],\n",
              "       [-0.],\n",
              "       ...,\n",
              "       [ 0.],\n",
              "       [ 0.],\n",
              "       [ 0.]], dtype=float32)"
            ]
          },
          "metadata": {},
          "execution_count": 124
        }
      ]
    },
    {
      "cell_type": "code",
      "source": [
        "avg=sum(noisey)/len(noisey)"
      ],
      "metadata": {
        "id": "F7U-GRKABX9e"
      },
      "execution_count": null,
      "outputs": []
    },
    {
      "cell_type": "code",
      "source": [
        "for c ,i in enumerate(noisey):\n",
        "  if  i<avg or i>np.min(noisey):\n",
        "    noisey[c] = 1\n",
        "  else :\n",
        "    noisey[c] = 0"
      ],
      "metadata": {
        "id": "KPEhvLSADB7e"
      },
      "execution_count": null,
      "outputs": []
    },
    {
      "cell_type": "markdown",
      "source": [
        "###Train using mixed data from discriminator and test data"
      ],
      "metadata": {
        "id": "Y9RbZieoZFNq"
      }
    },
    {
      "cell_type": "code",
      "source": [
        "testaccdes=[]\n",
        "trainaccdes = []\n",
        "for i,n in zip(models, names):\n",
        "  accte,acctr,predd,pred= MLModels(i,X_train,y_train,new_X_test,noisey,n)\n",
        "  testaccdes.append(accte)\n",
        "  trainaccdes.append(acctr)"
      ],
      "metadata": {
        "colab": {
          "base_uri": "https://localhost:8080/"
        },
        "id": "k2qiVHfWfR-X",
        "outputId": "967423b2-93d1-4384-d348-5f3179c17ab8"
      },
      "execution_count": null,
      "outputs": [
        {
          "output_type": "stream",
          "name": "stdout",
          "text": [
            "Train Accuracy\n",
            "                  precision    recall  f1-score   support\n",
            "\n",
            "     Legitimate       0.99      0.84      0.91      1507\n",
            "Fake Legitimate       0.98      1.00      0.99     10080\n",
            "\n",
            "       accuracy                           0.98     11587\n",
            "      macro avg       0.99      0.92      0.95     11587\n",
            "   weighted avg       0.98      0.98      0.98     11587\n",
            "\n",
            "Test Accuracy\n",
            "                  precision    recall  f1-score   support\n",
            "\n",
            "     Legitimate       0.00      0.00      0.00         0\n",
            "Fake Legitimate       1.00      0.97      0.99     10897\n",
            "\n",
            "       accuracy                           0.97     10897\n",
            "      macro avg       0.50      0.49      0.49     10897\n",
            "   weighted avg       1.00      0.97      0.99     10897\n",
            "\n",
            "RF Train Accuracy=0.98\n",
            " , RF Test Accuracy=0.97 \n",
            "\n"
          ]
        },
        {
          "output_type": "stream",
          "name": "stderr",
          "text": [
            "/usr/local/lib/python3.7/dist-packages/sklearn/metrics/_classification.py:1318: UndefinedMetricWarning: Recall and F-score are ill-defined and being set to 0.0 in labels with no true samples. Use `zero_division` parameter to control this behavior.\n",
            "  _warn_prf(average, modifier, msg_start, len(result))\n",
            "/usr/local/lib/python3.7/dist-packages/sklearn/metrics/_classification.py:1318: UndefinedMetricWarning: Recall and F-score are ill-defined and being set to 0.0 in labels with no true samples. Use `zero_division` parameter to control this behavior.\n",
            "  _warn_prf(average, modifier, msg_start, len(result))\n",
            "/usr/local/lib/python3.7/dist-packages/sklearn/metrics/_classification.py:1318: UndefinedMetricWarning: Recall and F-score are ill-defined and being set to 0.0 in labels with no true samples. Use `zero_division` parameter to control this behavior.\n",
            "  _warn_prf(average, modifier, msg_start, len(result))\n"
          ]
        },
        {
          "output_type": "stream",
          "name": "stdout",
          "text": [
            "Train Accuracy\n",
            "                  precision    recall  f1-score   support\n",
            "\n",
            "     Legitimate       0.88      0.76      0.82      1507\n",
            "Fake Legitimate       0.97      0.99      0.97     10080\n",
            "\n",
            "       accuracy                           0.96     11587\n",
            "      macro avg       0.92      0.87      0.90     11587\n",
            "   weighted avg       0.95      0.96      0.95     11587\n",
            "\n",
            "Test Accuracy\n",
            "                  precision    recall  f1-score   support\n",
            "\n",
            "     Legitimate       0.00      0.00      0.00         0\n",
            "Fake Legitimate       1.00      0.97      0.98     10897\n",
            "\n",
            "       accuracy                           0.97     10897\n",
            "      macro avg       0.50      0.48      0.49     10897\n",
            "   weighted avg       1.00      0.97      0.98     10897\n",
            "\n",
            "AdaBoost Train Accuracy=0.96\n",
            " , AdaBoost Test Accuracy=0.97 \n",
            "\n"
          ]
        },
        {
          "output_type": "stream",
          "name": "stderr",
          "text": [
            "/usr/local/lib/python3.7/dist-packages/sklearn/metrics/_classification.py:1318: UndefinedMetricWarning: Recall and F-score are ill-defined and being set to 0.0 in labels with no true samples. Use `zero_division` parameter to control this behavior.\n",
            "  _warn_prf(average, modifier, msg_start, len(result))\n",
            "/usr/local/lib/python3.7/dist-packages/sklearn/metrics/_classification.py:1318: UndefinedMetricWarning: Recall and F-score are ill-defined and being set to 0.0 in labels with no true samples. Use `zero_division` parameter to control this behavior.\n",
            "  _warn_prf(average, modifier, msg_start, len(result))\n",
            "/usr/local/lib/python3.7/dist-packages/sklearn/metrics/_classification.py:1318: UndefinedMetricWarning: Recall and F-score are ill-defined and being set to 0.0 in labels with no true samples. Use `zero_division` parameter to control this behavior.\n",
            "  _warn_prf(average, modifier, msg_start, len(result))\n"
          ]
        }
      ]
    },
    {
      "cell_type": "code",
      "source": [
        "flat_list_des = [x for xs in trainaccdes for x in xs]\n",
        "flat_list_des_2 = [x for xs in testaccdes for x in xs]"
      ],
      "metadata": {
        "id": "VjW4qJdWUoI5"
      },
      "execution_count": null,
      "outputs": []
    },
    {
      "cell_type": "markdown",
      "source": [
        "###Applying Noise from Discrimnator"
      ],
      "metadata": {
        "id": "ZVt7Fh_AYwL5"
      }
    },
    {
      "cell_type": "markdown",
      "source": [
        "train accuracy"
      ],
      "metadata": {
        "id": "-n0u67StXjuS"
      }
    },
    {
      "cell_type": "code",
      "source": [
        "Barplot(flat_list_des)"
      ],
      "metadata": {
        "colab": {
          "base_uri": "https://localhost:8080/",
          "height": 380
        },
        "id": "P0_bsqrnUoHB",
        "outputId": "2713744f-0061-45cc-c3b0-04c9d00c2445"
      },
      "execution_count": null,
      "outputs": [
        {
          "output_type": "display_data",
          "data": {
            "text/plain": [
              "<Figure size 720x360 with 1 Axes>"
            ],
            "image/png": "[encoded data removed]"
          },
          "metadata": {
            "needs_background": "light"
          }
        }
      ]
    },
    {
      "cell_type": "markdown",
      "source": [
        "Applying noise from discriminator test accuracy"
      ],
      "metadata": {
        "id": "LkyPzQz_XoGx"
      }
    },
    {
      "cell_type": "code",
      "source": [
        "Barplot(flat_list_des_2)"
      ],
      "metadata": {
        "colab": {
          "base_uri": "https://localhost:8080/",
          "height": 380
        },
        "id": "VE8xDGaOUoEc",
        "outputId": "f3b03641-c93f-4f8c-b92a-93a15bd1dd55"
      },
      "execution_count": null,
      "outputs": [
        {
          "output_type": "display_data",
          "data": {
            "text/plain": [
              "<Figure size 720x360 with 1 Axes>"
            ],
            "image/png": "[encoded data removed]"
          },
          "metadata": {
            "needs_background": "light"
          }
        }
      ]
    },
    {
      "cell_type": "code",
      "source": [
        ""
      ],
      "metadata": {
        "id": "Z6bhNeb3UoB0"
      },
      "execution_count": null,
      "outputs": []
    },
    {
      "cell_type": "code",
      "source": [
        ""
      ],
      "metadata": {
        "id": "Q4VidwHGUn-6"
      },
      "execution_count": null,
      "outputs": []
    }
  ]
}